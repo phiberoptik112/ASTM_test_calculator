{
 "cells": [
  {
   "cell_type": "code",
   "execution_count": 1,
   "metadata": {},
   "outputs": [
    {
     "name": "stderr",
     "output_type": "stream",
     "text": [
      "C:\\Users\\jPfitsch\\AppData\\Local\\Temp\\ipykernel_44100\\996283037.py:6: DeprecationWarning: \n",
      "Pyarrow will become a required dependency of pandas in the next major release of pandas (pandas 3.0),\n",
      "(to allow more performant data types, such as the Arrow string type, and better interoperability with other libraries)\n",
      "but was not found to be installed on your system.\n",
      "If this would cause problems for you,\n",
      "please provide us feedback at https://github.com/pandas-dev/pandas/issues/54466\n",
      "        \n",
      "  import pandas as pd\n"
     ]
    }
   ],
   "source": [
    "# SLM Auto Importer v4 debugv1\n",
    "# slimmed down from v3 - \n",
    "import openpyxl \n",
    "import string\n",
    "import time\n",
    "import pandas as pd\n",
    "from pandas import ExcelWriter\n",
    "import numpy as np\n",
    "from openpyxl import load_workbook\n",
    "from openpyxl import Workbook\n",
    "from openpyxl import cell\n",
    "from reportlab.lib.pagesizes import letter\n",
    "from reportlab.pdfgen import canvas\n",
    "from reportlab.lib.styles import getSampleStyleSheet\n",
    "from reportlab.lib import colors\n",
    "from reportlab.platypus import SimpleDocTemplate, Table,Paragraph\n",
    "from openpyxl.utils import get_column_letter\n",
    "import xlsxwriter\n",
    "import matplotlib.pyplot as plot\n",
    "from os import listdir, walk\n",
    "from os.path import isfile, join\n",
    "import tkinter as tk\n",
    "from tkinter import *\n",
    "import win32com\n",
    "# from win32com import client\n",
    "import shutil\n",
    "\n",
    "# import win32com.client\n"
   ]
  },
  {
   "cell_type": "code",
   "execution_count": 2,
   "metadata": {},
   "outputs": [
    {
     "name": "stdout",
     "output_type": "stream",
     "text": [
      "Area                                              NaN\n",
      "Area Label                                        NaN\n",
      "Test Label                                      1.1.1\n",
      "Source Room                      2nd Floor Great Room\n",
      "Receiving Room           1st Floor Great Room/Kitchen\n",
      "Partition Type                          Floor-ceiling\n",
      "Design STC                                         47\n",
      "Test Date                         2024-04-04 00:00:00\n",
      "Report Date                       2024-04-15 00:00:00\n",
      "Source                                           A029\n",
      "Recieve                                          E264\n",
      "BNL                                              E263\n",
      "RT                                               E140\n",
      "Position1                                        E265\n",
      "Position2                                        E266\n",
      "Position3                                        E267\n",
      "Position4                                        E268\n",
      "Carpet                                           E269\n",
      "SourceTap                                        A030\n",
      "ASTC                                                1\n",
      "NIC                                                 1\n",
      "source room vol                                  3949\n",
      "receive room vol                                 3949\n",
      "partition area                                  428.0\n",
      "partition dim                             14.8x29.583\n",
      "source room finish              finished, unfurnished\n",
      "srs_floor                                      Carpet\n",
      "srs_ceiling                                       gyp\n",
      "srs_Walls                                         gyp\n",
      "receive room finish              finished unfurnished\n",
      "rec_floor                                         LVT\n",
      "rec_ceiling                                       gyp\n",
      "rec_Wall                                          gyp\n",
      "tested assembly                         Floor-ceiling\n",
      "expected performance                              Yes\n",
      "Annex 2 used?                                      No\n",
      "Test assembly Type                      Floor-ceiling\n",
      "Project Name            Ka'ulu by Gentry ASTM Testing\n",
      "Name: 0, dtype: object\n"
     ]
    }
   ],
   "source": [
    "testplan_path ='//DLA-04/Shared/KAILUA PROJECTS/2024/24-004 Kaulu by Gentry ASTC - AIIC testing/Documents/TestPlan_Kaulu_ASTM_testingv1.xlsx'\n",
    "test_list = pd.read_excel(testplan_path)\n",
    "testnums = test_list['Test Label'] ## Determines the labels and number of excel files copied\n",
    "curr_test = test_list.iloc[0]\n",
    "print(curr_test)    "
   ]
  },
  {
   "cell_type": "code",
   "execution_count": null,
   "metadata": {},
   "outputs": [],
   "source": []
  }
 ],
 "metadata": {
  "kernelspec": {
   "display_name": "Python 3",
   "language": "python",
   "name": "python3"
  },
  "language_info": {
   "codemirror_mode": {
    "name": "ipython",
    "version": 3
   },
   "file_extension": ".py",
   "mimetype": "text/x-python",
   "name": "python",
   "nbconvert_exporter": "python",
   "pygments_lexer": "ipython3",
   "version": "3.11.2"
  }
 },
 "nbformat": 4,
 "nbformat_minor": 2
}
